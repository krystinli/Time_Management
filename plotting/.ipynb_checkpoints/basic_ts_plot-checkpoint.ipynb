{
 "cells": [
  {
   "cell_type": "markdown",
   "metadata": {},
   "source": [
    "## 00_static_plot"
   ]
  },
  {
   "cell_type": "code",
   "execution_count": null,
   "metadata": {},
   "outputs": [],
   "source": [
    "import pandas as pd\n",
    "import datetime\n",
    "import matplotlib.pyplot as plt\n",
    "\n",
    "data = pd.read_csv(\"../data/time_sheet.csv\")\n",
    "data.index = pd.to_datetime(data.Date) # set date as index\n",
    "data.sort_index(inplace=True)\n",
    "data.drop('Date', axis=1, inplace=True)\n",
    "data.tail()"
   ]
  },
  {
   "cell_type": "code",
   "execution_count": null,
   "metadata": {},
   "outputs": [],
   "source": [
    "def plotting_static(data, colname, color):\n",
    "    fig, ax = plt.subplots()\n",
    "    fig.set_size_inches(18, 5) # img size\n",
    "    \n",
    "    ax.plot(colname, \n",
    "        data = data, \n",
    "        color = \"black\", \n",
    "        linewidth = 1, \n",
    "        marker = 'o', \n",
    "        markeredgecolor = color,\n",
    "        markersize = 3,)\n",
    "\n",
    "    ax.set(xlabel = \"Date\", \n",
    "           ylabel = \"Hours\", \n",
    "           title = colname)\n",
    "    plt.legend()\n",
    "    plt.savefig(\"img/\" + colname + \".png\") \n",
    "\n",
    "plot_static(data, \"Total\", \"blue\")\n",
    "plot_static(data, \"coding\", \"red\")\n",
    "plot_static(data, \"ds_project\", \"yellow\")\n",
    "plot_static(data, \"planning\", \"purple\")\n",
    "plot_static(data, \"work\", \"green\")"
   ]
  },
  {
   "cell_type": "code",
   "execution_count": null,
   "metadata": {},
   "outputs": [],
   "source": []
  },
  {
   "cell_type": "markdown",
   "metadata": {},
   "source": [
    "## 01_Bokeh_Plot"
   ]
  },
  {
   "cell_type": "code",
   "execution_count": null,
   "metadata": {},
   "outputs": [],
   "source": [
    "import pandas as pd\n",
    "\n",
    "from bokeh.models import CustomJS, ColumnDataSource\n",
    "from bokeh.plotting import Figure, show, output_file\n",
    "from bokeh.layouts import column\n",
    "from bokeh.models.widgets import Button\n",
    "from bokeh.io import push_notebook, show, output_notebook\n",
    "output_notebook()"
   ]
  },
  {
   "cell_type": "code",
   "execution_count": null,
   "metadata": {},
   "outputs": [],
   "source": [
    "data = pd.read_csv(\"../data/time_sheet.csv\")\n",
    "data.index = pd.to_datetime(data.Date)\n",
    "data.sort_index(inplace=True)\n",
    "data.drop('Date', axis=1, inplace=True)\n",
    "data.tail()"
   ]
  },
  {
   "cell_type": "code",
   "execution_count": null,
   "metadata": {},
   "outputs": [],
   "source": [
    "# set up \n",
    "p = figure(\n",
    "    x_axis_type=\"datetime\", \n",
    "    plot_width=800, \n",
    "    plot_height=350,\n",
    "    title=\"My Time Management\",\n",
    ")\n",
    "\n",
    "# function \n",
    "source = ColumnDataSource(data=dict(x=data.index, y=data.Total))\n",
    "p.line('x', 'y', source=source, line_width=3, line_alpha=0.6)\n",
    "p.xgrid.grid_line_color=None\n",
    "p.ygrid.grid_line_alpha=0.5\n",
    "p.xaxis.axis_label = 'Date'\n",
    "p.yaxis.axis_label = 'Hours'\n",
    "\n",
    "callback = CustomJS(args=dict(source=source), code=\"\"\"\n",
    "    var radio_value = cb_obj.active;\n",
    "    var data = source.data;\n",
    "    x = data.index\n",
    "    y = data.work\n",
    "    \n",
    "    for (i = 0; i < x.length; i++) {\n",
    "        y[i] = Math.pow(x[i], 4)\n",
    "    }\n",
    "    source.change.emit();\n",
    "\"\"\")\n",
    "\n",
    "btn = Button(label=\"click here\", callback=callback, name=\"1\")\n",
    "layout = column(btn , plot)\n",
    "\n",
    "show(p)"
   ]
  }
 ],
 "metadata": {
  "kernelspec": {
   "display_name": "data_project",
   "language": "python",
   "name": "data_project"
  },
  "language_info": {
   "codemirror_mode": {
    "name": "ipython",
    "version": 3
   },
   "file_extension": ".py",
   "mimetype": "text/x-python",
   "name": "python",
   "nbconvert_exporter": "python",
   "pygments_lexer": "ipython3",
   "version": "3.8.6"
  }
 },
 "nbformat": 4,
 "nbformat_minor": 4
}
